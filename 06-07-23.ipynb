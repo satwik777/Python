{
 "cells": [
  {
   "cell_type": "code",
   "execution_count": 15,
   "id": "cf692e2c",
   "metadata": {},
   "outputs": [
    {
     "name": "stdout",
     "output_type": "stream",
     "text": [
      "Guess the number b/w 1-20:20\n",
      "Bingo\n",
      "score 60\n",
      "Guess the number b/w 1-20:14\n",
      "You are guessing low.Try with a higher number\n",
      "Guess the number b/w 1-20:15\n",
      "You are guessing low.Try with a higher number\n",
      "Guess the number b/w 1-20:16\n",
      "You are guessing low.Try with a higher number\n",
      "Guess the number b/w 1-20:17\n",
      "You are guessing low.Try with a higher number\n",
      "Guess the number b/w 1-20:18\n",
      "You are guessing low.Try with a higher number\n"
     ]
    }
   ],
   "source": [
    "#Guess the number -Hangman\n",
    "\n",
    "#random number b/e 1-20\n",
    "#chances -6 chances\n",
    "#Hint\n",
    "#score caluclation\n",
    "#play again\n",
    "#phase 1-support for multi player\n",
    "#phase 2-support for challange and tournament\n",
    "import random\n",
    "choice='y'\n",
    "while choice.lower()=='y'\n",
    "    guess=random.randint(1,20)\n",
    "    score=0\n",
    "    x=0\n",
    "    while x<6:\n",
    "        num=int(input('Guess the number b/w 1-20:'))\n",
    "        if num > guess and num <=20:\n",
    "            print('You are guessing high.Try with a lower number')\n",
    "            x+=1\n",
    "        elif num < guess and num > 0:\n",
    "            print('You are guessing low.Try with a higher number')\n",
    "            x+=1\n",
    "        elif num == guess:\n",
    "            print('Bingo!!!')\n",
    "            score = 60-(x*10)\n",
    "            print('score',score)\n",
    "            break\n",
    "        else:\n",
    "            print('Invalid guess')\n",
    "     if score ==0:\n",
    "        `print('Game over...Number is {}'.format(guess))\n",
    "    choice=input('press y to play again...')\n",
    "    \n"
   ]
  },
  {
   "cell_type": "markdown",
   "id": "8601f46f",
   "metadata": {},
   "source": [
    "#Guess the wordl\n",
    "l=['happy','python']\n",
    "_ _ _ _ _ _ _\n",
    "p\n",
    "\n",
    "p _  _ _ _ _  \n",
    "\n",
    "p_ _ _ o _\n",
    " "
   ]
  }
 ],
 "metadata": {
  "kernelspec": {
   "display_name": "Python 3 (ipykernel)",
   "language": "python",
   "name": "python3"
  },
  "language_info": {
   "codemirror_mode": {
    "name": "ipython",
    "version": 3
   },
   "file_extension": ".py",
   "mimetype": "text/x-python",
   "name": "python",
   "nbconvert_exporter": "python",
   "pygments_lexer": "ipython3",
   "version": "3.10.9"
  }
 },
 "nbformat": 4,
 "nbformat_minor": 5
}
